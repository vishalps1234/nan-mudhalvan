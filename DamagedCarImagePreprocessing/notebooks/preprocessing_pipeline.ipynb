{
 "cells": [
  {
   "cell_type": "markdown",
   "metadata": {},
   "source": [
    "# Damaged Car Image Preprocessing - Jupyter Notebook"
   ]
  },
  {
   "cell_type": "code",
   "execution_count": null,
   "metadata": {},
   "outputs": [],
   "source": [
    "# Sample OpenCV image preprocessing code\n",
    "import cv2\n",
    "import matplotlib.pyplot as plt\n",
    "import os\n",
    "img_path = '../data/sample.jpg'  # Replace with your image\n",
    "image = cv2.imread(img_path)\n",
    "resized = cv2.resize(image, (256, 256))\n",
    "gray = cv2.cvtColor(resized, cv2.COLOR_BGR2GRAY)\n",
    "ret, thresh = cv2.threshold(gray, 127, 255, cv2.THRESH_BINARY)\n",
    "plt.imshow(thresh, cmap='gray')\n",
    "plt.title('Thresholded Image')\n",
    "plt.show()"
   ]
  }
 ],
 "metadata": {},
 "nbformat": 4,
 "nbformat_minor": 2
}
